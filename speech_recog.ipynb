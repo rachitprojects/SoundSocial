{
  "nbformat": 4,
  "nbformat_minor": 0,
  "metadata": {
    "colab": {
      "name": "speech_recog.ipynb",
      "provenance": [],
      "authorship_tag": "ABX9TyP59co5ATeia1/JvhIgsKLf",
      "include_colab_link": true
    },
    "kernelspec": {
      "name": "python3",
      "display_name": "Python 3"
    },
    "language_info": {
      "name": "python"
    }
  },
  "cells": [
    {
      "cell_type": "markdown",
      "metadata": {
        "id": "view-in-github",
        "colab_type": "text"
      },
      "source": [
        "<a href=\"https://colab.research.google.com/github/rachitprojects/SoundSocial/blob/main/speech_recog.ipynb\" target=\"_parent\"><img src=\"https://colab.research.google.com/assets/colab-badge.svg\" alt=\"Open In Colab\"/></a>"
      ]
    },
    {
      "cell_type": "code",
      "execution_count": 1,
      "metadata": {
        "colab": {
          "base_uri": "https://localhost:8080/"
        },
        "id": "_ydyOgwYBb4V",
        "outputId": "e8e11bf2-de68-4538-efb3-5fdb541053d9"
      },
      "outputs": [
        {
          "output_type": "stream",
          "name": "stdout",
          "text": [
            "Collecting SpeechRecognition\n",
            "  Downloading SpeechRecognition-3.8.1-py2.py3-none-any.whl (32.8 MB)\n",
            "\u001b[K     |████████████████████████████████| 32.8 MB 1.2 MB/s \n",
            "\u001b[?25hInstalling collected packages: SpeechRecognition\n",
            "Successfully installed SpeechRecognition-3.8.1\n"
          ]
        }
      ],
      "source": [
        "!pip install SpeechRecognition"
      ]
    },
    {
      "cell_type": "code",
      "source": [
        "!wget http://download.tensorflow.org/data/speech_commands_v0.01.tar.gz"
      ],
      "metadata": {
        "colab": {
          "base_uri": "https://localhost:8080/"
        },
        "id": "w9snGBgCFJ1D",
        "outputId": "fd7aa366-d215-4c44-820e-6a1b0943a496"
      },
      "execution_count": 1,
      "outputs": [
        {
          "output_type": "stream",
          "name": "stdout",
          "text": [
            "--2022-04-02 18:11:03--  http://download.tensorflow.org/data/speech_commands_v0.01.tar.gz\n",
            "Resolving download.tensorflow.org (download.tensorflow.org)... 172.217.1.208, 2607:f8b0:4004:83e::2010\n",
            "Connecting to download.tensorflow.org (download.tensorflow.org)|172.217.1.208|:80... connected.\n",
            "HTTP request sent, awaiting response... 200 OK\n",
            "Length: 1489096277 (1.4G) [application/gzip]\n",
            "Saving to: ‘speech_commands_v0.01.tar.gz’\n",
            "\n",
            "speech_commands_v0. 100%[===================>]   1.39G   187MB/s    in 7.1s    \n",
            "\n",
            "2022-04-02 18:11:10 (201 MB/s) - ‘speech_commands_v0.01.tar.gz’ saved [1489096277/1489096277]\n",
            "\n"
          ]
        }
      ]
    },
    {
      "cell_type": "code",
      "source": [
        "!tar -xf speech_commands_v0.01.tar.gz"
      ],
      "metadata": {
        "id": "Kv453VeEGA5N"
      },
      "execution_count": 2,
      "outputs": []
    },
    {
      "cell_type": "code",
      "source": [
        "!pip3 install wandb"
      ],
      "metadata": {
        "id": "g3fKX104OlgI"
      },
      "execution_count": null,
      "outputs": []
    },
    {
      "cell_type": "markdown",
      "source": [
        "# Experimenting with Librosa"
      ],
      "metadata": {
        "id": "qMe_UEnqjLkS"
      }
    },
    {
      "cell_type": "code",
      "source": [
        "from keras.models import Sequential\n",
        "from keras.layers import Dense, Dropout, Flatten, Conv2D, MaxPooling2D, LSTM\n",
        "from tensorflow.keras.utils import to_categorical\n",
        "import wandb\n",
        "from wandb.keras import WandbCallback\n",
        "import matplotlib.pyplot as plt"
      ],
      "metadata": {
        "id": "D_O3B2nVGGl3"
      },
      "execution_count": null,
      "outputs": []
    },
    {
      "cell_type": "code",
      "source": [
        "!pip3 install librosa"
      ],
      "metadata": {
        "id": "sZ_9J6GIN1Sy"
      },
      "execution_count": null,
      "outputs": []
    },
    {
      "cell_type": "code",
      "source": [
        "import librosa\n",
        "import numpy as np\n",
        "import matplotlib.pyplot as plt"
      ],
      "metadata": {
        "id": "A4gqz9AWTNQr"
      },
      "execution_count": 25,
      "outputs": []
    },
    {
      "cell_type": "code",
      "source": [
        "signal, sr = librosa.load(librosa.util.example('brahms'))"
      ],
      "metadata": {
        "colab": {
          "base_uri": "https://localhost:8080/"
        },
        "id": "UFThJme8SXx0",
        "outputId": "08bd67bf-4d44-4e33-d31b-499837425e61"
      },
      "execution_count": 10,
      "outputs": [
        {
          "output_type": "stream",
          "name": "stderr",
          "text": [
            "Downloading file 'Hungarian_Dance_number_5_-_Allegro_in_F_sharp_minor_(string_orchestra).ogg' from 'https://librosa.org/data/audio/Hungarian_Dance_number_5_-_Allegro_in_F_sharp_minor_(string_orchestra).ogg' to '/root/.cache/librosa'.\n"
          ]
        }
      ]
    },
    {
      "cell_type": "code",
      "source": [
        "import librosa.display\n",
        "from matplotlib.backends.backend_agg import FigureCanvasAgg as FigureCanvas\n",
        "\n",
        "n_fft = 2048\n",
        "hop_length = 512\n",
        "mel_signal = librosa.feature.melspectrogram(y=signal, sr=sr, hop_length=hop_length, \n",
        " n_fft=n_fft)\n",
        "spectrogram = np.abs(mel_signal)\n",
        "power_to_db = librosa.power_to_db(spectrogram, ref=np.max)\n",
        "plt.figure(figsize=(8, 7))\n",
        "\n",
        "fig = plt.Figure()\n",
        "canvas = FigureCanvas(fig)\n",
        "ax = fig.add_subplot(111)\n",
        "\n",
        "librosa.display.specshow(power_to_db, sr=sr, ax=ax, x_axis='time', y_axis='mel', cmap='magma', \n",
        " hop_length=hop_length)\n",
        "fig.savefig(\"fig.png\")\n"
      ],
      "metadata": {
        "colab": {
          "base_uri": "https://localhost:8080/",
          "height": 35
        },
        "id": "NgQNrLEASeti",
        "outputId": "af83881a-2a55-475f-fa10-355caf4d7516"
      },
      "execution_count": 24,
      "outputs": [
        {
          "output_type": "display_data",
          "data": {
            "text/plain": [
              "<Figure size 576x504 with 0 Axes>"
            ]
          },
          "metadata": {}
        }
      ]
    },
    {
      "cell_type": "markdown",
      "source": [
        "# Convert Data Set to Mel Spectrogram \n",
        "Will check for Bed , Bird , Eight, cat, happy. We sample 250 audio files out of the total. "
      ],
      "metadata": {
        "id": "4IvLuPRVg1-Y"
      }
    },
    {
      "cell_type": "code",
      "source": [
        "\n",
        "import os\n",
        "\n",
        "os.mkdir(\"bed_im\")\n",
        "\n",
        "for x in os.listdir(\"bed\"):\n",
        "    signal, sr = librosa.load(\"bed/\" + x)\n",
        "    n_fft = 2048\n",
        "    hop_length = 512\n",
        "    mel_signal = librosa.feature.melspectrogram(y=signal, sr=sr, hop_length=hop_length, \n",
        "    n_fft=n_fft)\n",
        "    spectrogram = np.abs(mel_signal)\n",
        "    power_to_db = librosa.power_to_db(spectrogram, ref=np.max)\n",
        "    plt.figure(figsize=(8, 7))\n",
        "\n",
        "    fig = plt.Figure()\n",
        "    canvas = FigureCanvas(fig)\n",
        "    ax = fig.add_subplot(111)\n",
        "\n",
        "    librosa.display.specshow(power_to_db, sr=sr, ax=ax, x_axis='time', y_axis='mel', cmap='magma', hop_length=hop_length)\n",
        "    fig.savefig(\"bed_im/\" + x[:-4] + \".png\")\n"
      ],
      "metadata": {
        "id": "pf1K3CIdSuLQ"
      },
      "execution_count": null,
      "outputs": []
    },
    {
      "cell_type": "code",
      "source": [
        "import random\n",
        "import shutil\n",
        "\n",
        "for x in random.sample(os.listdir(\"bed_im\"), 250):\n",
        "    original = \"bed_im/\" + x\n",
        "    target = \"bedmel/\" + x\n",
        "    shutil.copyfile(original, target)\n"
      ],
      "metadata": {
        "id": "ull7X-f_ioj0"
      },
      "execution_count": 35,
      "outputs": []
    },
    {
      "cell_type": "markdown",
      "source": [
        "Function to generate spectrograms"
      ],
      "metadata": {
        "id": "mYKuZ2yYqQmI"
      }
    },
    {
      "cell_type": "code",
      "source": [
        "import librosa\n",
        "import numpy as np\n",
        "import matplotlib.pyplot as plt\n",
        "import os\n",
        "import random\n",
        "import librosa.display\n",
        "from matplotlib.backends.backend_agg import FigureCanvasAgg as FigureCanvas\n"
      ],
      "metadata": {
        "id": "mhetyc6-euP2"
      },
      "execution_count": 13,
      "outputs": []
    },
    {
      "cell_type": "code",
      "source": [
        "def gen_mel_spec(file, saveloc):\n",
        "    signal, sr = librosa.load(file)\n",
        "    n_fft = 2048\n",
        "    hop_length = 512\n",
        "    mel_signal = librosa.feature.melspectrogram(y=signal, sr=sr, hop_length=hop_length, \n",
        "    n_fft=n_fft)\n",
        "    spectrogram = np.abs(mel_signal)\n",
        "    power_to_db = librosa.power_to_db(spectrogram, ref=np.max)\n",
        "    plt.figure(figsize=(8, 7))\n",
        "\n",
        "    fig = plt.Figure()\n",
        "    canvas = FigureCanvas(fig)\n",
        "    ax = fig.add_subplot(111)\n",
        "\n",
        "    librosa.display.specshow(power_to_db, sr=sr, ax=ax, x_axis='time', y_axis='mel', cmap='magma', hop_length=hop_length)\n",
        "    fig.savefig(saveloc)\n",
        "\n",
        "def generate_sets(folder):\n",
        "    os.mkdir(folder + \"mel\")\n",
        "    for x in random.sample(os.listdir(folder), 250):\n",
        "        gen_mel_spec(folder + \"/\" + x, folder + \"mel\" + \"/\" + x[:-4] + \".png\")\n"
      ],
      "metadata": {
        "id": "Q_RN6TWKo32r"
      },
      "execution_count": 13,
      "outputs": []
    },
    {
      "cell_type": "code",
      "source": [
        "generate_sets(\"bed\")\n",
        "generate_sets(\"happy\")\n",
        "generate_sets(\"bird\")\n",
        "generate_sets(\"cat\")\n",
        "generate_sets(\"eight\")"
      ],
      "metadata": {
        "id": "1px7QJNdssxX"
      },
      "execution_count": null,
      "outputs": []
    },
    {
      "cell_type": "code",
      "source": [
        "import cv2\n",
        "import os\n",
        "\n",
        "X = []\n",
        "y = []"
      ],
      "metadata": {
        "id": "A7qgCWcFrhzP"
      },
      "execution_count": 9,
      "outputs": []
    },
    {
      "cell_type": "code",
      "source": [
        "\n",
        "def load_set(folder, label):\n",
        "    for x in os.listdir(folder):\n",
        "        img = cv2.imread(folder + \"/\" + x)\n",
        "        img = cv2.cvtColor(img, cv2.COLOR_BGR2RGB)\n",
        "        X.append(img)\n",
        "        y.append(label)"
      ],
      "metadata": {
        "id": "ofBk4G1ekooG"
      },
      "execution_count": 10,
      "outputs": []
    },
    {
      "cell_type": "code",
      "source": [
        "load_set(\"bedmel\", 0)\n",
        "load_set(\"birdmel\", 1)\n",
        "load_set(\"eightmel\", 2)\n",
        "load_set(\"catmel\", 3)\n",
        "load_set(\"happymel\", 4)"
      ],
      "metadata": {
        "id": "fZUaVPcMplfS"
      },
      "execution_count": 11,
      "outputs": []
    },
    {
      "cell_type": "code",
      "source": [
        "plt.imshow(X[332])\n",
        "print(y[332])"
      ],
      "metadata": {
        "id": "Ss9v6oDKr7t7",
        "outputId": "30097064-5ce0-48c9-8571-343ca4695b00",
        "colab": {
          "base_uri": "https://localhost:8080/",
          "height": 287
        }
      },
      "execution_count": 14,
      "outputs": [
        {
          "output_type": "stream",
          "name": "stdout",
          "text": [
            "1\n"
          ]
        },
        {
          "output_type": "display_data",
          "data": {
            "text/plain": [
              "<Figure size 432x288 with 1 Axes>"
            ],
            "image/png": "[encoded data removed]"
          },
          "metadata": {
            "needs_background": "light"
          }
        }
      ]
    },
    {
      "cell_type": "code",
      "source": [
        "from google.colab import drive\n",
        "drive.mount(\"/content/gdrive/\")"
      ],
      "metadata": {
        "id": "UaMr1hUZr9lQ",
        "outputId": "b70c6a1e-3e82-4fc8-ba99-68cacc047976",
        "colab": {
          "base_uri": "https://localhost:8080/"
        }
      },
      "execution_count": 37,
      "outputs": [
        {
          "output_type": "stream",
          "name": "stdout",
          "text": [
            "Mounted at /content/gdrive/\n"
          ]
        }
      ]
    },
    {
      "cell_type": "markdown",
      "source": [
        "Dont run this cell, it generates pickles for the existing dataset "
      ],
      "metadata": {
        "id": "iI5QRCSQwaVL"
      }
    },
    {
      "cell_type": "code",
      "source": [
        "import numpy as np\n",
        "import pickle\n",
        "\n",
        "X = np.array(X)\n",
        "y = np.array(y)\n",
        "\n",
        "# os.mkdir(\"/content/gdrive/MyDrive/sound-melspec\")\n",
        "\n",
        "with open(\"/content/gdrive/MyDrive/sound-melspec/soundim.pickle\", \"wb\") as soundset:\n",
        "    pickle.dump(X, soundset)\n",
        "\n",
        "with open(\"/content/gdrive/MyDrive/sound-melspec/soundlabel.pickle\", \"wb\") as soundlabel:\n",
        "    pickle.dump(y, soundlabel)\n"
      ],
      "metadata": {
        "id": "iSLKDPB1si-k"
      },
      "execution_count": 15,
      "outputs": []
    },
    {
      "cell_type": "markdown",
      "source": [
        ""
      ],
      "metadata": {
        "id": "uUmveTg3wdv5"
      }
    },
    {
      "cell_type": "code",
      "source": [
        "import pickle\n",
        "import numpy as np\n",
        "\n",
        "with open(\"/content/gdrive/MyDrive/sound-melspec/soundim.pickle\", \"rb\") as soundim:\n",
        "    X = pickle.load(soundim)\n",
        "\n",
        "with open(\"/content/gdrive/MyDrive/sound-melspec/soundlabel.pickle\", \"rb\") as soundlabel:\n",
        "    y = pickle.load(soundlabel)\n"
      ],
      "metadata": {
        "id": "81aiKwF2xQv1"
      },
      "execution_count": 1,
      "outputs": []
    },
    {
      "cell_type": "code",
      "source": [
        "from sklearn.model_selection import train_test_split\n",
        "from tensorflow.keras.utils import to_categorical\n",
        "\n",
        "X = np.array(X)\n",
        "y = np.array(y)\n",
        "X_train , X_test, y_train, y_test = train_test_split(X, y, test_size=0.25)\n"
      ],
      "metadata": {
        "id": "-1ytkg9cu-0f"
      },
      "execution_count": 2,
      "outputs": []
    },
    {
      "cell_type": "markdown",
      "source": [
        "# Attempting to use Resnet 50"
      ],
      "metadata": {
        "id": "LlIxs4iBAZdN"
      }
    },
    {
      "cell_type": "code",
      "source": [
        "from keras.models import Sequential\n",
        "from keras.layers import Dense, Dropout, Flatten, Conv2D, MaxPooling2D, LSTM\n",
        "\n",
        "from tensorflow.keras.applications.resnet50 import ResNet50\n",
        "model = ResNet50(weights=None, input_shape=(288, 432, 3), classes=5)\n",
        "model.compile(\n",
        "        optimizer='adam',\n",
        "        loss='sparse_categorical_crossentropy',\n",
        "        metrics=['accuracy']\n",
        "    )\n"
      ],
      "metadata": {
        "id": "n8ZE_B-3yIiY"
      },
      "execution_count": 3,
      "outputs": []
    },
    {
      "cell_type": "code",
      "source": [
        "\n",
        "import tensorflow as tf\n",
        "\n",
        "model = tf.keras.models.Sequential([\n",
        "    #first_convolution\n",
        "    tf.keras.layers.Conv2D(16, (3,3), activation='relu', input_shape=(288, 432, 3)),\n",
        "    tf.keras.layers.MaxPooling2D(2, 2),\n",
        "    #second_convolution\n",
        "    tf.keras.layers.Conv2D(32, (3,3), activation='relu'),\n",
        "    tf.keras.layers.MaxPooling2D(2,2),\n",
        "    #third_convolution\n",
        "    tf.keras.layers.Conv2D(64, (3,3), activation='relu'),\n",
        "    tf.keras.layers.MaxPooling2D(2,2),\n",
        "    #fourth_convolution\n",
        "    tf.keras.layers.Conv2D(64, (3,3), activation='relu'),\n",
        "    tf.keras.layers.MaxPooling2D(2,2),\n",
        "    tf.keras.layers.Flatten(),\n",
        "    tf.keras.layers.Dropout(0.5),\n",
        "    tf.keras.layers.Dense(256, activation='relu'),\n",
        "    tf.keras.layers.Dense(5, activation='softmax') \n",
        "]) \n",
        "\n",
        "model.compile(\n",
        "        optimizer='adam',\n",
        "        loss='sparse_categorical_crossentropy',\n",
        "        metrics=['accuracy']\n",
        "    )\n"
      ],
      "metadata": {
        "id": "rW88pjtcAets"
      },
      "execution_count": 10,
      "outputs": []
    },
    {
      "cell_type": "code",
      "source": [
        "model.fit(\n",
        "    x=X_train,\n",
        "    y=y_train,\n",
        "    epochs=5,\n",
        "    verbose=1,\n",
        "    validation_data=(X_test, y_test),\n",
        "    batch_size=32,\n",
        ")"
      ],
      "metadata": {
        "id": "PLHlminQ4l5I",
        "outputId": "302efb13-69d8-4c27-c204-42c0e289b583",
        "colab": {
          "base_uri": "https://localhost:8080/"
        }
      },
      "execution_count": 11,
      "outputs": [
        {
          "output_type": "stream",
          "name": "stdout",
          "text": [
            "Epoch 1/5\n",
            "30/30 [==============================] - 102s 3s/step - loss: 29.8175 - accuracy: 0.2252 - val_loss: 1.6079 - val_accuracy: 0.2236\n",
            "Epoch 2/5\n",
            "30/30 [==============================] - 100s 3s/step - loss: 1.6053 - accuracy: 0.2060 - val_loss: 1.6045 - val_accuracy: 0.2332\n",
            "Epoch 3/5\n",
            "30/30 [==============================] - 104s 3s/step - loss: 1.5894 - accuracy: 0.2625 - val_loss: 1.5943 - val_accuracy: 0.3067\n",
            "Epoch 4/5\n",
            "30/30 [==============================] - 101s 3s/step - loss: 1.5569 - accuracy: 0.2700 - val_loss: 1.6052 - val_accuracy: 0.2300\n",
            "Epoch 5/5\n",
            "30/30 [==============================] - 100s 3s/step - loss: 1.5069 - accuracy: 0.3244 - val_loss: 1.6123 - val_accuracy: 0.2620\n"
          ]
        },
        {
          "output_type": "execute_result",
          "data": {
            "text/plain": [
              "<keras.callbacks.History at 0x7fe272d25810>"
            ]
          },
          "metadata": {},
          "execution_count": 11
        }
      ]
    },
    {
      "cell_type": "code",
      "source": [
        "!cd /content/gdrive/MyDrive/"
      ],
      "metadata": {
        "id": "iG2g8YObDrN-"
      },
      "execution_count": 12,
      "outputs": []
    },
    {
      "cell_type": "code",
      "source": [
        "# Dont run this if already extsts\n",
        "!mkdir  sound_weights"
      ],
      "metadata": {
        "id": "LxUIq_9sD5Ce"
      },
      "execution_count": 15,
      "outputs": []
    },
    {
      "cell_type": "code",
      "source": [
        "!cd sound_weights"
      ],
      "metadata": {
        "id": "SiEu7lDJEhij"
      },
      "execution_count": 16,
      "outputs": []
    },
    {
      "cell_type": "code",
      "source": [
        "from tensorflow.keras.callbacks import ModelCheckpoint, TensorBoard\n",
        "import os\n",
        "\n",
        "name = \"soundmel_learn\"\n",
        "checkpoint_path = \"checkpoints/\"+name+\"/cp-{epoch:04d}.ckpt\"\n",
        "checkpoint_dir = os.path.dirname(checkpoint_path)\n",
        "os.system('mkdir {}'.format(checkpoint_dir))\n",
        "\n",
        "# save model after each epoch\n",
        "cp_callback = ModelCheckpoint(\n",
        "    filepath=checkpoint_path,\n",
        "    verbose=1\n",
        ")\n",
        "tensorboard_callback = TensorBoard(\n",
        "    log_dir='tensorboard_logs2/'+name,\n",
        "    histogram_freq=1\n",
        ")\n",
        "\n",
        "model.fit(\n",
        "    x=X_train,\n",
        "    y=y_train,\n",
        "    epochs=20,\n",
        "    verbose=1,\n",
        "    validation_data=(X_test, y_test),\n",
        "    batch_size=128,\n",
        "    callbacks=[cp_callback, tensorboard_callback]\n",
        ")\n"
      ],
      "metadata": {
        "id": "CRMvjp8442vT",
        "outputId": "99487cb4-2d26-4353-9619-e423d32af6cf",
        "colab": {
          "base_uri": "https://localhost:8080/"
        }
      },
      "execution_count": 18,
      "outputs": [
        {
          "output_type": "stream",
          "name": "stdout",
          "text": [
            "Epoch 1/20\n",
            "8/8 [==============================] - ETA: 0s - loss: 1.4172 - accuracy: 0.3757 \n",
            "Epoch 1: saving model to checkpoints/soundmel_learn/cp-0001.ckpt\n",
            "INFO:tensorflow:Assets written to: checkpoints/soundmel_learn/cp-0001.ckpt/assets\n",
            "8/8 [==============================] - 106s 13s/step - loss: 1.4172 - accuracy: 0.3757 - val_loss: 1.6514 - val_accuracy: 0.2652\n",
            "Epoch 2/20\n",
            "8/8 [==============================] - ETA: 0s - loss: 1.3685 - accuracy: 0.4013 \n",
            "Epoch 2: saving model to checkpoints/soundmel_learn/cp-0002.ckpt\n",
            "INFO:tensorflow:Assets written to: checkpoints/soundmel_learn/cp-0002.ckpt/assets\n",
            "8/8 [==============================] - 104s 13s/step - loss: 1.3685 - accuracy: 0.4013 - val_loss: 1.6511 - val_accuracy: 0.2620\n",
            "Epoch 3/20\n",
            "8/8 [==============================] - ETA: 0s - loss: 1.3014 - accuracy: 0.4280 \n",
            "Epoch 3: saving model to checkpoints/soundmel_learn/cp-0003.ckpt\n",
            "INFO:tensorflow:Assets written to: checkpoints/soundmel_learn/cp-0003.ckpt/assets\n",
            "8/8 [==============================] - 104s 13s/step - loss: 1.3014 - accuracy: 0.4280 - val_loss: 1.6897 - val_accuracy: 0.2843\n",
            "Epoch 4/20\n",
            "8/8 [==============================] - ETA: 0s - loss: 1.2488 - accuracy: 0.4536 \n",
            "Epoch 4: saving model to checkpoints/soundmel_learn/cp-0004.ckpt\n",
            "INFO:tensorflow:Assets written to: checkpoints/soundmel_learn/cp-0004.ckpt/assets\n",
            "8/8 [==============================] - 108s 14s/step - loss: 1.2488 - accuracy: 0.4536 - val_loss: 1.6961 - val_accuracy: 0.2780\n",
            "Epoch 5/20\n",
            "8/8 [==============================] - ETA: 0s - loss: 1.2030 - accuracy: 0.4824 \n",
            "Epoch 5: saving model to checkpoints/soundmel_learn/cp-0005.ckpt\n",
            "INFO:tensorflow:Assets written to: checkpoints/soundmel_learn/cp-0005.ckpt/assets\n",
            "8/8 [==============================] - 103s 13s/step - loss: 1.2030 - accuracy: 0.4824 - val_loss: 1.7671 - val_accuracy: 0.2748\n",
            "Epoch 6/20\n",
            "8/8 [==============================] - ETA: 0s - loss: 1.1264 - accuracy: 0.5176 \n",
            "Epoch 6: saving model to checkpoints/soundmel_learn/cp-0006.ckpt\n",
            "INFO:tensorflow:Assets written to: checkpoints/soundmel_learn/cp-0006.ckpt/assets\n",
            "8/8 [==============================] - 102s 13s/step - loss: 1.1264 - accuracy: 0.5176 - val_loss: 1.7916 - val_accuracy: 0.3099\n",
            "Epoch 7/20\n",
            "8/8 [==============================] - ETA: 0s - loss: 1.0908 - accuracy: 0.5283 \n",
            "Epoch 7: saving model to checkpoints/soundmel_learn/cp-0007.ckpt\n",
            "INFO:tensorflow:Assets written to: checkpoints/soundmel_learn/cp-0007.ckpt/assets\n",
            "8/8 [==============================] - 104s 13s/step - loss: 1.0908 - accuracy: 0.5283 - val_loss: 1.8188 - val_accuracy: 0.2556\n",
            "Epoch 8/20\n",
            "8/8 [==============================] - ETA: 0s - loss: 1.0507 - accuracy: 0.5571 \n",
            "Epoch 8: saving model to checkpoints/soundmel_learn/cp-0008.ckpt\n",
            "INFO:tensorflow:Assets written to: checkpoints/soundmel_learn/cp-0008.ckpt/assets\n",
            "8/8 [==============================] - 102s 13s/step - loss: 1.0507 - accuracy: 0.5571 - val_loss: 1.9693 - val_accuracy: 0.3099\n",
            "Epoch 9/20\n",
            "8/8 [==============================] - ETA: 0s - loss: 0.9750 - accuracy: 0.5816 \n",
            "Epoch 9: saving model to checkpoints/soundmel_learn/cp-0009.ckpt\n",
            "INFO:tensorflow:Assets written to: checkpoints/soundmel_learn/cp-0009.ckpt/assets\n",
            "8/8 [==============================] - 104s 13s/step - loss: 0.9750 - accuracy: 0.5816 - val_loss: 1.9758 - val_accuracy: 0.2939\n",
            "Epoch 10/20\n",
            "8/8 [==============================] - ETA: 0s - loss: 0.9677 - accuracy: 0.6019 \n",
            "Epoch 10: saving model to checkpoints/soundmel_learn/cp-0010.ckpt\n",
            "INFO:tensorflow:Assets written to: checkpoints/soundmel_learn/cp-0010.ckpt/assets\n",
            "8/8 [==============================] - 109s 14s/step - loss: 0.9677 - accuracy: 0.6019 - val_loss: 2.0243 - val_accuracy: 0.2939\n",
            "Epoch 11/20\n",
            "8/8 [==============================] - ETA: 0s - loss: 0.9474 - accuracy: 0.5955 \n",
            "Epoch 11: saving model to checkpoints/soundmel_learn/cp-0011.ckpt\n",
            "INFO:tensorflow:Assets written to: checkpoints/soundmel_learn/cp-0011.ckpt/assets\n",
            "8/8 [==============================] - 104s 13s/step - loss: 0.9474 - accuracy: 0.5955 - val_loss: 2.0445 - val_accuracy: 0.2971\n",
            "Epoch 12/20\n",
            "8/8 [==============================] - ETA: 0s - loss: 0.9082 - accuracy: 0.6350 \n",
            "Epoch 12: saving model to checkpoints/soundmel_learn/cp-0012.ckpt\n",
            "INFO:tensorflow:Assets written to: checkpoints/soundmel_learn/cp-0012.ckpt/assets\n",
            "8/8 [==============================] - 104s 13s/step - loss: 0.9082 - accuracy: 0.6350 - val_loss: 2.2043 - val_accuracy: 0.3259\n",
            "Epoch 13/20\n",
            "8/8 [==============================] - ETA: 0s - loss: 0.8600 - accuracy: 0.6307 \n",
            "Epoch 13: saving model to checkpoints/soundmel_learn/cp-0013.ckpt\n",
            "INFO:tensorflow:Assets written to: checkpoints/soundmel_learn/cp-0013.ckpt/assets\n",
            "8/8 [==============================] - 106s 13s/step - loss: 0.8600 - accuracy: 0.6307 - val_loss: 2.1622 - val_accuracy: 0.3578\n",
            "Epoch 14/20\n",
            "8/8 [==============================] - ETA: 0s - loss: 0.8404 - accuracy: 0.6702 \n",
            "Epoch 14: saving model to checkpoints/soundmel_learn/cp-0014.ckpt\n",
            "INFO:tensorflow:Assets written to: checkpoints/soundmel_learn/cp-0014.ckpt/assets\n",
            "8/8 [==============================] - 103s 13s/step - loss: 0.8404 - accuracy: 0.6702 - val_loss: 2.3624 - val_accuracy: 0.2939\n",
            "Epoch 15/20\n",
            "8/8 [==============================] - ETA: 0s - loss: 0.7751 - accuracy: 0.6894 \n",
            "Epoch 15: saving model to checkpoints/soundmel_learn/cp-0015.ckpt\n",
            "INFO:tensorflow:Assets written to: checkpoints/soundmel_learn/cp-0015.ckpt/assets\n",
            "8/8 [==============================] - 104s 13s/step - loss: 0.7751 - accuracy: 0.6894 - val_loss: 2.3267 - val_accuracy: 0.3035\n",
            "Epoch 16/20\n",
            "8/8 [==============================] - ETA: 0s - loss: 0.7333 - accuracy: 0.7150 \n",
            "Epoch 16: saving model to checkpoints/soundmel_learn/cp-0016.ckpt\n",
            "INFO:tensorflow:Assets written to: checkpoints/soundmel_learn/cp-0016.ckpt/assets\n",
            "8/8 [==============================] - 108s 14s/step - loss: 0.7333 - accuracy: 0.7150 - val_loss: 2.5195 - val_accuracy: 0.3323\n",
            "Epoch 17/20\n",
            "8/8 [==============================] - ETA: 0s - loss: 0.6760 - accuracy: 0.7289 \n",
            "Epoch 17: saving model to checkpoints/soundmel_learn/cp-0017.ckpt\n",
            "INFO:tensorflow:Assets written to: checkpoints/soundmel_learn/cp-0017.ckpt/assets\n",
            "8/8 [==============================] - 102s 13s/step - loss: 0.6760 - accuracy: 0.7289 - val_loss: 2.4637 - val_accuracy: 0.2971\n",
            "Epoch 18/20\n",
            "8/8 [==============================] - ETA: 0s - loss: 0.6694 - accuracy: 0.7353 \n",
            "Epoch 18: saving model to checkpoints/soundmel_learn/cp-0018.ckpt\n",
            "INFO:tensorflow:Assets written to: checkpoints/soundmel_learn/cp-0018.ckpt/assets\n",
            "8/8 [==============================] - 104s 13s/step - loss: 0.6694 - accuracy: 0.7353 - val_loss: 2.6002 - val_accuracy: 0.3450\n",
            "Epoch 19/20\n",
            "8/8 [==============================] - ETA: 0s - loss: 0.6306 - accuracy: 0.7588 \n",
            "Epoch 19: saving model to checkpoints/soundmel_learn/cp-0019.ckpt\n",
            "INFO:tensorflow:Assets written to: checkpoints/soundmel_learn/cp-0019.ckpt/assets\n",
            "8/8 [==============================] - 104s 13s/step - loss: 0.6306 - accuracy: 0.7588 - val_loss: 2.6360 - val_accuracy: 0.3195\n",
            "Epoch 20/20\n",
            "8/8 [==============================] - ETA: 0s - loss: 0.5803 - accuracy: 0.7759 \n",
            "Epoch 20: saving model to checkpoints/soundmel_learn/cp-0020.ckpt\n",
            "INFO:tensorflow:Assets written to: checkpoints/soundmel_learn/cp-0020.ckpt/assets\n",
            "8/8 [==============================] - 104s 13s/step - loss: 0.5803 - accuracy: 0.7759 - val_loss: 2.3666 - val_accuracy: 0.3962\n"
          ]
        },
        {
          "output_type": "execute_result",
          "data": {
            "text/plain": [
              "<keras.callbacks.History at 0x7fe272c47450>"
            ]
          },
          "metadata": {},
          "execution_count": 18
        }
      ]
    },
    {
      "cell_type": "code",
      "source": [
        "name = \"soundmel_learn2\"\n",
        "checkpoint_path = \"checkpoints/\"+name+\"/cp-{epoch:04d}.ckpt\"\n",
        "checkpoint_dir = os.path.dirname(checkpoint_path)\n",
        "os.system('mkdir {}'.format(checkpoint_dir))\n",
        "\n",
        "# save model after each epoch\n",
        "cp_callback = ModelCheckpoint(\n",
        "    filepath=checkpoint_path,\n",
        "    verbose=1\n",
        ")\n",
        "tensorboard_callback = TensorBoard(\n",
        "    log_dir='tensorboard_logs2/'+name,\n",
        "    histogram_freq=1\n",
        ")\n",
        "\n",
        "model.fit(\n",
        "    x=X_train,\n",
        "    y=y_train,\n",
        "    epochs=20,\n",
        "    verbose=1,\n",
        "    validation_data=(X_test, y_test),\n",
        "    batch_size=128,\n",
        "    callbacks=[cp_callback, tensorboard_callback]\n",
        ")\n"
      ],
      "metadata": {
        "id": "n1OxfvM_E8C-",
        "outputId": "e6097ab1-2b45-4672-9ec4-5296b3849e29",
        "colab": {
          "base_uri": "https://localhost:8080/"
        }
      },
      "execution_count": 19,
      "outputs": [
        {
          "output_type": "stream",
          "name": "stdout",
          "text": [
            "Epoch 1/20\n",
            "8/8 [==============================] - ETA: 0s - loss: 0.5226 - accuracy: 0.8154 \n",
            "Epoch 1: saving model to checkpoints/soundmel_learn2/cp-0001.ckpt\n",
            "INFO:tensorflow:Assets written to: checkpoints/soundmel_learn2/cp-0001.ckpt/assets\n",
            "8/8 [==============================] - 109s 13s/step - loss: 0.5226 - accuracy: 0.8154 - val_loss: 3.1970 - val_accuracy: 0.3099\n",
            "Epoch 2/20\n",
            "8/8 [==============================] - ETA: 0s - loss: 0.7033 - accuracy: 0.7471 \n",
            "Epoch 2: saving model to checkpoints/soundmel_learn2/cp-0002.ckpt\n",
            "INFO:tensorflow:Assets written to: checkpoints/soundmel_learn2/cp-0002.ckpt/assets\n",
            "8/8 [==============================] - 104s 13s/step - loss: 0.7033 - accuracy: 0.7471 - val_loss: 2.5159 - val_accuracy: 0.2907\n",
            "Epoch 3/20\n",
            "8/8 [==============================] - ETA: 0s - loss: 0.6878 - accuracy: 0.7257 \n",
            "Epoch 3: saving model to checkpoints/soundmel_learn2/cp-0003.ckpt\n",
            "INFO:tensorflow:Assets written to: checkpoints/soundmel_learn2/cp-0003.ckpt/assets\n",
            "8/8 [==============================] - 110s 13s/step - loss: 0.6878 - accuracy: 0.7257 - val_loss: 2.3177 - val_accuracy: 0.3291\n",
            "Epoch 4/20\n",
            "8/8 [==============================] - ETA: 0s - loss: 0.5314 - accuracy: 0.7866 \n",
            "Epoch 4: saving model to checkpoints/soundmel_learn2/cp-0004.ckpt\n",
            "INFO:tensorflow:Assets written to: checkpoints/soundmel_learn2/cp-0004.ckpt/assets\n",
            "8/8 [==============================] - 104s 13s/step - loss: 0.5314 - accuracy: 0.7866 - val_loss: 2.5393 - val_accuracy: 0.3355\n",
            "Epoch 5/20\n",
            "8/8 [==============================] - ETA: 0s - loss: 0.4504 - accuracy: 0.8346 \n",
            "Epoch 5: saving model to checkpoints/soundmel_learn2/cp-0005.ckpt\n",
            "INFO:tensorflow:Assets written to: checkpoints/soundmel_learn2/cp-0005.ckpt/assets\n",
            "8/8 [==============================] - 102s 13s/step - loss: 0.4504 - accuracy: 0.8346 - val_loss: 2.4309 - val_accuracy: 0.4249\n",
            "Epoch 6/20\n",
            "8/8 [==============================] - ETA: 0s - loss: 0.3985 - accuracy: 0.8602 \n",
            "Epoch 6: saving model to checkpoints/soundmel_learn2/cp-0006.ckpt\n",
            "INFO:tensorflow:Assets written to: checkpoints/soundmel_learn2/cp-0006.ckpt/assets\n",
            "8/8 [==============================] - 102s 13s/step - loss: 0.3985 - accuracy: 0.8602 - val_loss: 2.5398 - val_accuracy: 0.3770\n",
            "Epoch 7/20\n",
            "8/8 [==============================] - ETA: 0s - loss: 0.3308 - accuracy: 0.8890 \n",
            "Epoch 7: saving model to checkpoints/soundmel_learn2/cp-0007.ckpt\n",
            "INFO:tensorflow:Assets written to: checkpoints/soundmel_learn2/cp-0007.ckpt/assets\n",
            "8/8 [==============================] - 103s 13s/step - loss: 0.3308 - accuracy: 0.8890 - val_loss: 2.2176 - val_accuracy: 0.4121\n",
            "Epoch 8/20\n",
            "8/8 [==============================] - ETA: 0s - loss: 0.2825 - accuracy: 0.9114 \n",
            "Epoch 8: saving model to checkpoints/soundmel_learn2/cp-0008.ckpt\n",
            "INFO:tensorflow:Assets written to: checkpoints/soundmel_learn2/cp-0008.ckpt/assets\n",
            "8/8 [==============================] - 107s 13s/step - loss: 0.2825 - accuracy: 0.9114 - val_loss: 2.1771 - val_accuracy: 0.4984\n",
            "Epoch 9/20\n",
            "8/8 [==============================] - ETA: 0s - loss: 0.2177 - accuracy: 0.9306 \n",
            "Epoch 9: saving model to checkpoints/soundmel_learn2/cp-0009.ckpt\n",
            "INFO:tensorflow:Assets written to: checkpoints/soundmel_learn2/cp-0009.ckpt/assets\n",
            "8/8 [==============================] - 106s 13s/step - loss: 0.2177 - accuracy: 0.9306 - val_loss: 2.3538 - val_accuracy: 0.4856\n",
            "Epoch 10/20\n",
            "8/8 [==============================] - ETA: 0s - loss: 0.1987 - accuracy: 0.9274 \n",
            "Epoch 10: saving model to checkpoints/soundmel_learn2/cp-0010.ckpt\n",
            "INFO:tensorflow:Assets written to: checkpoints/soundmel_learn2/cp-0010.ckpt/assets\n",
            "8/8 [==============================] - 104s 13s/step - loss: 0.1987 - accuracy: 0.9274 - val_loss: 2.3944 - val_accuracy: 0.4920\n",
            "Epoch 11/20\n",
            "8/8 [==============================] - ETA: 0s - loss: 0.1556 - accuracy: 0.9445 \n",
            "Epoch 11: saving model to checkpoints/soundmel_learn2/cp-0011.ckpt\n",
            "INFO:tensorflow:Assets written to: checkpoints/soundmel_learn2/cp-0011.ckpt/assets\n",
            "8/8 [==============================] - 106s 13s/step - loss: 0.1556 - accuracy: 0.9445 - val_loss: 2.4528 - val_accuracy: 0.5080\n",
            "Epoch 12/20\n",
            "8/8 [==============================] - ETA: 0s - loss: 0.1371 - accuracy: 0.9594 \n",
            "Epoch 12: saving model to checkpoints/soundmel_learn2/cp-0012.ckpt\n",
            "INFO:tensorflow:Assets written to: checkpoints/soundmel_learn2/cp-0012.ckpt/assets\n",
            "8/8 [==============================] - 102s 13s/step - loss: 0.1371 - accuracy: 0.9594 - val_loss: 2.5486 - val_accuracy: 0.4856\n",
            "Epoch 13/20\n",
            "8/8 [==============================] - ETA: 0s - loss: 0.1299 - accuracy: 0.9541 \n",
            "Epoch 13: saving model to checkpoints/soundmel_learn2/cp-0013.ckpt\n",
            "INFO:tensorflow:Assets written to: checkpoints/soundmel_learn2/cp-0013.ckpt/assets\n",
            "8/8 [==============================] - 104s 13s/step - loss: 0.1299 - accuracy: 0.9541 - val_loss: 2.5060 - val_accuracy: 0.5144\n",
            "Epoch 14/20\n",
            "8/8 [==============================] - ETA: 0s - loss: 0.1130 - accuracy: 0.9648 \n",
            "Epoch 14: saving model to checkpoints/soundmel_learn2/cp-0014.ckpt\n",
            "INFO:tensorflow:Assets written to: checkpoints/soundmel_learn2/cp-0014.ckpt/assets\n",
            "8/8 [==============================] - 108s 14s/step - loss: 0.1130 - accuracy: 0.9648 - val_loss: 2.5472 - val_accuracy: 0.5367\n",
            "Epoch 15/20\n",
            "8/8 [==============================] - ETA: 0s - loss: 0.0965 - accuracy: 0.9723 \n",
            "Epoch 15: saving model to checkpoints/soundmel_learn2/cp-0015.ckpt\n",
            "INFO:tensorflow:Assets written to: checkpoints/soundmel_learn2/cp-0015.ckpt/assets\n",
            "8/8 [==============================] - 103s 13s/step - loss: 0.0965 - accuracy: 0.9723 - val_loss: 2.5092 - val_accuracy: 0.5431\n",
            "Epoch 16/20\n",
            "8/8 [==============================] - ETA: 0s - loss: 0.0864 - accuracy: 0.9733 \n",
            "Epoch 16: saving model to checkpoints/soundmel_learn2/cp-0016.ckpt\n",
            "INFO:tensorflow:Assets written to: checkpoints/soundmel_learn2/cp-0016.ckpt/assets\n",
            "8/8 [==============================] - 103s 13s/step - loss: 0.0864 - accuracy: 0.9733 - val_loss: 2.3561 - val_accuracy: 0.5623\n",
            "Epoch 17/20\n",
            "8/8 [==============================] - ETA: 0s - loss: 0.0796 - accuracy: 0.9744 \n",
            "Epoch 17: saving model to checkpoints/soundmel_learn2/cp-0017.ckpt\n",
            "INFO:tensorflow:Assets written to: checkpoints/soundmel_learn2/cp-0017.ckpt/assets\n",
            "8/8 [==============================] - 102s 13s/step - loss: 0.0796 - accuracy: 0.9744 - val_loss: 2.2724 - val_accuracy: 0.5527\n",
            "Epoch 18/20\n",
            "8/8 [==============================] - ETA: 0s - loss: 0.0744 - accuracy: 0.9829 \n",
            "Epoch 18: saving model to checkpoints/soundmel_learn2/cp-0018.ckpt\n",
            "INFO:tensorflow:Assets written to: checkpoints/soundmel_learn2/cp-0018.ckpt/assets\n",
            "8/8 [==============================] - 105s 13s/step - loss: 0.0744 - accuracy: 0.9829 - val_loss: 2.2974 - val_accuracy: 0.5879\n",
            "Epoch 19/20\n",
            "8/8 [==============================] - ETA: 0s - loss: 0.0587 - accuracy: 0.9840 \n",
            "Epoch 19: saving model to checkpoints/soundmel_learn2/cp-0019.ckpt\n",
            "INFO:tensorflow:Assets written to: checkpoints/soundmel_learn2/cp-0019.ckpt/assets\n",
            "8/8 [==============================] - 103s 13s/step - loss: 0.0587 - accuracy: 0.9840 - val_loss: 2.7998 - val_accuracy: 0.5783\n",
            "Epoch 20/20\n",
            "8/8 [==============================] - ETA: 0s - loss: 0.0501 - accuracy: 0.9840 \n",
            "Epoch 20: saving model to checkpoints/soundmel_learn2/cp-0020.ckpt\n",
            "INFO:tensorflow:Assets written to: checkpoints/soundmel_learn2/cp-0020.ckpt/assets\n",
            "8/8 [==============================] - 108s 14s/step - loss: 0.0501 - accuracy: 0.9840 - val_loss: 2.8420 - val_accuracy: 0.5879\n"
          ]
        },
        {
          "output_type": "execute_result",
          "data": {
            "text/plain": [
              "<keras.callbacks.History at 0x7fe271440c50>"
            ]
          },
          "metadata": {},
          "execution_count": 19
        }
      ]
    },
    {
      "cell_type": "code",
      "source": [
        "name = \"soundmel_learn3\"\n",
        "checkpoint_path = \"checkpoints/\"+name+\"/cp-{epoch:04d}.ckpt\"\n",
        "checkpoint_dir = os.path.dirname(checkpoint_path)\n",
        "os.system('mkdir {}'.format(checkpoint_dir))\n",
        "\n",
        "# save model after each epoch\n",
        "cp_callback = ModelCheckpoint(\n",
        "    filepath=checkpoint_path,\n",
        "    verbose=1\n",
        ")\n",
        "tensorboard_callback = TensorBoard(\n",
        "    log_dir='tensorboard_logs2/'+name,\n",
        "    histogram_freq=1\n",
        ")\n",
        "\n",
        "model.fit(\n",
        "    x=X_train,\n",
        "    y=y_train,\n",
        "    epochs=6,\n",
        "    verbose=1,\n",
        "    validation_data=(X_test, y_test),\n",
        "    batch_size=64,\n",
        "    callbacks=[cp_callback, tensorboard_callback]\n",
        ")\n"
      ],
      "metadata": {
        "id": "jMjaibjbTp2s",
        "outputId": "61cb06fc-28d1-4f7f-a1c5-91c81a21ad59",
        "colab": {
          "base_uri": "https://localhost:8080/"
        }
      },
      "execution_count": 20,
      "outputs": [
        {
          "output_type": "stream",
          "name": "stdout",
          "text": [
            "Epoch 1/6\n",
            "15/15 [==============================] - ETA: 0s - loss: 0.0626 - accuracy: 0.9861\n",
            "Epoch 1: saving model to checkpoints/soundmel_learn3/cp-0001.ckpt\n",
            "INFO:tensorflow:Assets written to: checkpoints/soundmel_learn3/cp-0001.ckpt/assets\n",
            "15/15 [==============================] - 109s 7s/step - loss: 0.0626 - accuracy: 0.9861 - val_loss: 2.4649 - val_accuracy: 0.5719\n",
            "Epoch 2/6\n",
            "15/15 [==============================] - ETA: 0s - loss: 0.0741 - accuracy: 0.9744\n",
            "Epoch 2: saving model to checkpoints/soundmel_learn3/cp-0002.ckpt\n",
            "INFO:tensorflow:Assets written to: checkpoints/soundmel_learn3/cp-0002.ckpt/assets\n",
            "15/15 [==============================] - 110s 7s/step - loss: 0.0741 - accuracy: 0.9744 - val_loss: 2.2058 - val_accuracy: 0.5815\n",
            "Epoch 3/6\n",
            "15/15 [==============================] - ETA: 0s - loss: 0.0884 - accuracy: 0.9680\n",
            "Epoch 3: saving model to checkpoints/soundmel_learn3/cp-0003.ckpt\n",
            "INFO:tensorflow:Assets written to: checkpoints/soundmel_learn3/cp-0003.ckpt/assets\n",
            "15/15 [==============================] - 105s 7s/step - loss: 0.0884 - accuracy: 0.9680 - val_loss: 2.5498 - val_accuracy: 0.5559\n",
            "Epoch 4/6\n",
            "15/15 [==============================] - ETA: 0s - loss: 0.0482 - accuracy: 0.9893\n",
            "Epoch 4: saving model to checkpoints/soundmel_learn3/cp-0004.ckpt\n",
            "INFO:tensorflow:Assets written to: checkpoints/soundmel_learn3/cp-0004.ckpt/assets\n",
            "15/15 [==============================] - 104s 7s/step - loss: 0.0482 - accuracy: 0.9893 - val_loss: 2.4769 - val_accuracy: 0.5719\n",
            "Epoch 5/6\n",
            "15/15 [==============================] - ETA: 0s - loss: 0.0403 - accuracy: 0.9893\n",
            "Epoch 5: saving model to checkpoints/soundmel_learn3/cp-0005.ckpt\n",
            "INFO:tensorflow:Assets written to: checkpoints/soundmel_learn3/cp-0005.ckpt/assets\n",
            "15/15 [==============================] - 105s 7s/step - loss: 0.0403 - accuracy: 0.9893 - val_loss: 2.5944 - val_accuracy: 0.5399\n",
            "Epoch 6/6\n",
            "15/15 [==============================] - ETA: 0s - loss: 0.0542 - accuracy: 0.9808\n",
            "Epoch 6: saving model to checkpoints/soundmel_learn3/cp-0006.ckpt\n",
            "INFO:tensorflow:Assets written to: checkpoints/soundmel_learn3/cp-0006.ckpt/assets\n",
            "15/15 [==============================] - 105s 7s/step - loss: 0.0542 - accuracy: 0.9808 - val_loss: 2.5874 - val_accuracy: 0.5942\n"
          ]
        },
        {
          "output_type": "execute_result",
          "data": {
            "text/plain": [
              "<keras.callbacks.History at 0x7fe275931b50>"
            ]
          },
          "metadata": {},
          "execution_count": 20
        }
      ]
    },
    {
      "cell_type": "code",
      "source": [
        ""
      ],
      "metadata": {
        "id": "slXkJ4kBdH2x"
      },
      "execution_count": null,
      "outputs": []
    }
  ]
}